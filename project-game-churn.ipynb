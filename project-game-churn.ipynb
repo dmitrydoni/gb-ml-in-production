{
 "cells": [
  {
   "cell_type": "markdown",
   "metadata": {},
   "source": [
    "<div class=\"alert alert-block alert-info\">\n",
    "    <p><img src=\"https://geekbrains.ru/apple-touch-icon-57x57.png\" align=\"right\" alt=\"GeekBrains\"></p>\n",
    "    <p style=\"color:DarkSlateGray\"><b>Course:</b> Machine Learning Systems in Production</p>\n",
    "    <p style=\"color:DarkSlateGray\"><b>Project:</b> Churn Prediction in Game</p>\n",
    "    <p style=\"color:DarkSlateGray\"><b>Supervisor:</b> Fedor Erin</p>\n",
    "    <p style=\"color:DarkSlateGray\"><b>Author:</b> Dmitry Doni</p>\n",
    "</div>"
   ]
  },
  {
   "cell_type": "code",
   "execution_count": 1,
   "metadata": {},
   "outputs": [],
   "source": [
    "import numpy as np\n",
    "import pandas as pd\n",
    "from sklearn.model_selection import train_test_split\n",
    "import matplotlib.pyplot as plt\n",
    "import seaborn as sns\n",
    "\n",
    "import random"
   ]
  },
  {
   "cell_type": "code",
   "execution_count": 2,
   "metadata": {},
   "outputs": [],
   "source": [
    "# Display charts in Jupyter Notebook\n",
    "%matplotlib inline\n",
    "plt.style.use('fivethirtyeight')\n",
    "# Display inline plots as SVG\n",
    "%config InlineBackend.figure_formats = ['svg']\n",
    "# Set the limit of columns displayed in the notebook\n",
    "pd.options.display.max_columns = 100"
   ]
  },
  {
   "cell_type": "markdown",
   "metadata": {},
   "source": [
    "### Train Data"
   ]
  },
  {
   "cell_type": "code",
   "execution_count": 3,
   "metadata": {},
   "outputs": [
    {
     "data": {
      "text/html": [
       "<div>\n",
       "<style scoped>\n",
       "    .dataframe tbody tr th:only-of-type {\n",
       "        vertical-align: middle;\n",
       "    }\n",
       "\n",
       "    .dataframe tbody tr th {\n",
       "        vertical-align: top;\n",
       "    }\n",
       "\n",
       "    .dataframe thead th {\n",
       "        text-align: right;\n",
       "    }\n",
       "</style>\n",
       "<table border=\"1\" class=\"dataframe\">\n",
       "  <thead>\n",
       "    <tr style=\"text-align: right;\">\n",
       "      <th></th>\n",
       "      <th>user_id</th>\n",
       "      <th>is_churned</th>\n",
       "      <th>login_last_dt</th>\n",
       "      <th>level</th>\n",
       "      <th>donate_total</th>\n",
       "    </tr>\n",
       "  </thead>\n",
       "  <tbody>\n",
       "    <tr>\n",
       "      <th>0</th>\n",
       "      <td>1e7edd8347e3aaeedf8c494b11240851e3fa0ad231b8f8...</td>\n",
       "      <td>0</td>\n",
       "      <td>2019-09-03</td>\n",
       "      <td>43</td>\n",
       "      <td>88730.00000</td>\n",
       "    </tr>\n",
       "    <tr>\n",
       "      <th>1</th>\n",
       "      <td>f43cac5f14e06ca039b173e14c323ac0c1fd8492f0cf08...</td>\n",
       "      <td>0</td>\n",
       "      <td>2019-09-18</td>\n",
       "      <td>50</td>\n",
       "      <td>44149.00000</td>\n",
       "    </tr>\n",
       "    <tr>\n",
       "      <th>2</th>\n",
       "      <td>cc7450e0b182947998534ef137b05e07109c100aced0b6...</td>\n",
       "      <td>0</td>\n",
       "      <td>2019-09-22</td>\n",
       "      <td>37</td>\n",
       "      <td>44931.00000</td>\n",
       "    </tr>\n",
       "    <tr>\n",
       "      <th>3</th>\n",
       "      <td>5c583d57a1e9e53341fc239d41fb6983e667a04b1b4d94...</td>\n",
       "      <td>0</td>\n",
       "      <td>2019-09-06</td>\n",
       "      <td>20</td>\n",
       "      <td>37538.00000</td>\n",
       "    </tr>\n",
       "    <tr>\n",
       "      <th>4</th>\n",
       "      <td>9bbaa1a2501e8dc83cf6c0c54ef139c75c99de09dcf4dc...</td>\n",
       "      <td>0</td>\n",
       "      <td>2019-09-01</td>\n",
       "      <td>10</td>\n",
       "      <td>4100.97998</td>\n",
       "    </tr>\n",
       "  </tbody>\n",
       "</table>\n",
       "</div>"
      ],
      "text/plain": [
       "                                             user_id  is_churned  \\\n",
       "0  1e7edd8347e3aaeedf8c494b11240851e3fa0ad231b8f8...           0   \n",
       "1  f43cac5f14e06ca039b173e14c323ac0c1fd8492f0cf08...           0   \n",
       "2  cc7450e0b182947998534ef137b05e07109c100aced0b6...           0   \n",
       "3  5c583d57a1e9e53341fc239d41fb6983e667a04b1b4d94...           0   \n",
       "4  9bbaa1a2501e8dc83cf6c0c54ef139c75c99de09dcf4dc...           0   \n",
       "\n",
       "  login_last_dt  level  donate_total  \n",
       "0    2019-09-03     43   88730.00000  \n",
       "1    2019-09-18     50   44149.00000  \n",
       "2    2019-09-22     37   44931.00000  \n",
       "3    2019-09-06     20   37538.00000  \n",
       "4    2019-09-01     10    4100.97998  "
      ]
     },
     "execution_count": 3,
     "metadata": {},
     "output_type": "execute_result"
    }
   ],
   "source": [
    "train_data_raw = pd.read_csv('../../datasets/gamechurn/train/sample.csv', delimiter=';')\n",
    "train_data_raw.head(5)"
   ]
  },
  {
   "cell_type": "code",
   "execution_count": 4,
   "metadata": {},
   "outputs": [
    {
     "data": {
      "text/plain": [
       "(469475, 5)"
      ]
     },
     "execution_count": 4,
     "metadata": {},
     "output_type": "execute_result"
    }
   ],
   "source": [
    "train_data_raw.shape"
   ]
  },
  {
   "cell_type": "code",
   "execution_count": 5,
   "metadata": {},
   "outputs": [
    {
     "data": {
      "text/html": [
       "<div>\n",
       "<style scoped>\n",
       "    .dataframe tbody tr th:only-of-type {\n",
       "        vertical-align: middle;\n",
       "    }\n",
       "\n",
       "    .dataframe tbody tr th {\n",
       "        vertical-align: top;\n",
       "    }\n",
       "\n",
       "    .dataframe thead th {\n",
       "        text-align: right;\n",
       "    }\n",
       "</style>\n",
       "<table border=\"1\" class=\"dataframe\">\n",
       "  <thead>\n",
       "    <tr style=\"text-align: right;\">\n",
       "      <th></th>\n",
       "      <th>is_churned</th>\n",
       "      <th>level</th>\n",
       "      <th>donate_total</th>\n",
       "    </tr>\n",
       "  </thead>\n",
       "  <tbody>\n",
       "    <tr>\n",
       "      <th>count</th>\n",
       "      <td>469475.000000</td>\n",
       "      <td>469475.000000</td>\n",
       "      <td>4.694750e+05</td>\n",
       "    </tr>\n",
       "    <tr>\n",
       "      <th>mean</th>\n",
       "      <td>0.029448</td>\n",
       "      <td>26.792698</td>\n",
       "      <td>4.800206e+04</td>\n",
       "    </tr>\n",
       "    <tr>\n",
       "      <th>std</th>\n",
       "      <td>0.169058</td>\n",
       "      <td>12.680296</td>\n",
       "      <td>8.576742e+04</td>\n",
       "    </tr>\n",
       "    <tr>\n",
       "      <th>min</th>\n",
       "      <td>0.000000</td>\n",
       "      <td>10.000000</td>\n",
       "      <td>6.000000e-02</td>\n",
       "    </tr>\n",
       "    <tr>\n",
       "      <th>25%</th>\n",
       "      <td>0.000000</td>\n",
       "      <td>17.000000</td>\n",
       "      <td>6.312000e+03</td>\n",
       "    </tr>\n",
       "    <tr>\n",
       "      <th>50%</th>\n",
       "      <td>0.000000</td>\n",
       "      <td>23.000000</td>\n",
       "      <td>2.019600e+04</td>\n",
       "    </tr>\n",
       "    <tr>\n",
       "      <th>75%</th>\n",
       "      <td>0.000000</td>\n",
       "      <td>36.000000</td>\n",
       "      <td>5.543250e+04</td>\n",
       "    </tr>\n",
       "    <tr>\n",
       "      <th>max</th>\n",
       "      <td>1.000000</td>\n",
       "      <td>50.000000</td>\n",
       "      <td>4.356043e+06</td>\n",
       "    </tr>\n",
       "  </tbody>\n",
       "</table>\n",
       "</div>"
      ],
      "text/plain": [
       "          is_churned          level  donate_total\n",
       "count  469475.000000  469475.000000  4.694750e+05\n",
       "mean        0.029448      26.792698  4.800206e+04\n",
       "std         0.169058      12.680296  8.576742e+04\n",
       "min         0.000000      10.000000  6.000000e-02\n",
       "25%         0.000000      17.000000  6.312000e+03\n",
       "50%         0.000000      23.000000  2.019600e+04\n",
       "75%         0.000000      36.000000  5.543250e+04\n",
       "max         1.000000      50.000000  4.356043e+06"
      ]
     },
     "execution_count": 5,
     "metadata": {},
     "output_type": "execute_result"
    }
   ],
   "source": [
    "train_data_raw.describe()"
   ]
  },
  {
   "cell_type": "markdown",
   "metadata": {},
   "source": [
    "### Test Data"
   ]
  },
  {
   "cell_type": "code",
   "execution_count": 6,
   "metadata": {},
   "outputs": [
    {
     "data": {
      "text/html": [
       "<div>\n",
       "<style scoped>\n",
       "    .dataframe tbody tr th:only-of-type {\n",
       "        vertical-align: middle;\n",
       "    }\n",
       "\n",
       "    .dataframe tbody tr th {\n",
       "        vertical-align: top;\n",
       "    }\n",
       "\n",
       "    .dataframe thead th {\n",
       "        text-align: right;\n",
       "    }\n",
       "</style>\n",
       "<table border=\"1\" class=\"dataframe\">\n",
       "  <thead>\n",
       "    <tr style=\"text-align: right;\">\n",
       "      <th></th>\n",
       "      <th>user_id</th>\n",
       "      <th>login_last_dt</th>\n",
       "      <th>level</th>\n",
       "      <th>donate_total</th>\n",
       "    </tr>\n",
       "  </thead>\n",
       "  <tbody>\n",
       "    <tr>\n",
       "      <th>0</th>\n",
       "      <td>0bda14606761d90210e6e5f7432b5a5c2f7cbda6d5144e...</td>\n",
       "      <td>2019-09-29</td>\n",
       "      <td>13</td>\n",
       "      <td>11972.219727</td>\n",
       "    </tr>\n",
       "    <tr>\n",
       "      <th>1</th>\n",
       "      <td>beaabc52f2f369d27d4b4132d6629e475f2117568a9041...</td>\n",
       "      <td>2019-09-29</td>\n",
       "      <td>25</td>\n",
       "      <td>8000.000000</td>\n",
       "    </tr>\n",
       "    <tr>\n",
       "      <th>2</th>\n",
       "      <td>969daefac09c760c75e0a131d4397ef43278151ead9232...</td>\n",
       "      <td>2019-09-28</td>\n",
       "      <td>12</td>\n",
       "      <td>5408.120117</td>\n",
       "    </tr>\n",
       "    <tr>\n",
       "      <th>3</th>\n",
       "      <td>2f8a302052389f20fbe09e144c60917e5495312f7a83bc...</td>\n",
       "      <td>2019-09-28</td>\n",
       "      <td>49</td>\n",
       "      <td>121067.437500</td>\n",
       "    </tr>\n",
       "    <tr>\n",
       "      <th>4</th>\n",
       "      <td>10bf851621a8a69b0900f3b5f3c0904a45f2b952e6e2d4...</td>\n",
       "      <td>2019-09-29</td>\n",
       "      <td>11</td>\n",
       "      <td>4194.000000</td>\n",
       "    </tr>\n",
       "  </tbody>\n",
       "</table>\n",
       "</div>"
      ],
      "text/plain": [
       "                                             user_id login_last_dt  level  \\\n",
       "0  0bda14606761d90210e6e5f7432b5a5c2f7cbda6d5144e...    2019-09-29     13   \n",
       "1  beaabc52f2f369d27d4b4132d6629e475f2117568a9041...    2019-09-29     25   \n",
       "2  969daefac09c760c75e0a131d4397ef43278151ead9232...    2019-09-28     12   \n",
       "3  2f8a302052389f20fbe09e144c60917e5495312f7a83bc...    2019-09-28     49   \n",
       "4  10bf851621a8a69b0900f3b5f3c0904a45f2b952e6e2d4...    2019-09-29     11   \n",
       "\n",
       "    donate_total  \n",
       "0   11972.219727  \n",
       "1    8000.000000  \n",
       "2    5408.120117  \n",
       "3  121067.437500  \n",
       "4    4194.000000  "
      ]
     },
     "execution_count": 6,
     "metadata": {},
     "output_type": "execute_result"
    }
   ],
   "source": [
    "test_data_raw = pd.read_csv('../../datasets/gamechurn/test/sample.csv', delimiter=';')\n",
    "test_data_raw.head()"
   ]
  },
  {
   "cell_type": "markdown",
   "metadata": {},
   "source": [
    "### Predictions"
   ]
  },
  {
   "cell_type": "code",
   "execution_count": 7,
   "metadata": {},
   "outputs": [],
   "source": [
    "# test_predictions.to_csv('../../datasets/gamechurn/DDoni_predictions.csv', index=None)"
   ]
  },
  {
   "cell_type": "code",
   "execution_count": null,
   "metadata": {},
   "outputs": [],
   "source": []
  }
 ],
 "metadata": {
  "kernelspec": {
   "display_name": "Python 3",
   "language": "python",
   "name": "python3"
  },
  "language_info": {
   "codemirror_mode": {
    "name": "ipython",
    "version": 3
   },
   "file_extension": ".py",
   "mimetype": "text/x-python",
   "name": "python",
   "nbconvert_exporter": "python",
   "pygments_lexer": "ipython3",
   "version": "3.7.3"
  }
 },
 "nbformat": 4,
 "nbformat_minor": 2
}
